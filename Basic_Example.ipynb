{
 "cells": [
  {
   "cell_type": "code",
   "execution_count": 1,
   "id": "0433d323-d3cd-4d1b-83f4-3f8a23e4ef4e",
   "metadata": {},
   "outputs": [
    {
     "name": "stdout",
     "output_type": "stream",
     "text": [
      "Using device:\tcuda:0\n"
     ]
    }
   ],
   "source": [
    "import torch\n",
    "from torchvision import datasets, transforms\n",
    "from torch.utils.data import DataLoader\n",
    "from laplace_hdc_helper import load_dataset\n",
    "from laplace_hdc_encoder import hdc_encoder\n",
    "from laplace_hdc_classifier import train_hdc_classifier, test_hdc_classifier\n",
    "import matplotlib.pyplot as plt\n",
    "import numpy as np\n",
    "import time\n",
    "\n",
    "device = torch.device(\"cuda:0\" if torch.cuda.is_available() else \"cpu\")\n",
    "print(f\"Using device:\\t{device}\")"
   ]
  },
  {
   "cell_type": "markdown",
   "id": "e38fe4c3-5b96-49c0-b9e5-68fe57f96d5d",
   "metadata": {},
   "source": [
    "### Hyperparameters"
   ]
  },
  {
   "cell_type": "code",
   "execution_count": 2,
   "id": "191b370d-cd87-42c6-a767-6af09d84e45f",
   "metadata": {},
   "outputs": [],
   "source": [
    "hyperdim = 10000 \n",
    "bandwidth_parameter = 3 # bandwidth parameter\n",
    "encoder_mode = 'shift_1d'\n",
    "classifier_mode=\"binary_sgd\"\n",
    "epochs=3"
   ]
  },
  {
   "cell_type": "markdown",
   "id": "6c5c9499-4412-41e1-adf2-b16225485fdb",
   "metadata": {},
   "source": [
    "## Load Data"
   ]
  },
  {
   "cell_type": "code",
   "execution_count": 3,
   "id": "eba68280-5ac2-409f-9b8a-2d8ab0836532",
   "metadata": {},
   "outputs": [],
   "source": [
    "class_names = np.array([\"0\", \"1\", \"2\", \"3\", \"4\", \"5\", \"6\", \"7\", \"8\", \"9\"])\n",
    "\n",
    "# load the MNIST training data\n",
    "train_data = datasets.MNIST(\n",
    "    './',\n",
    "    train=True,\n",
    "    download=True,\n",
    "    transform=transforms.ToTensor(),\n",
    ")\n",
    "\n",
    "# Load the MNIST testing data\n",
    "test_data = datasets.MNIST(\n",
    "    './',\n",
    "    train=False,\n",
    "    download=True,\n",
    "    transform=transforms.ToTensor(),\n",
    ")\n",
    "\n",
    "num_classes = len(class_names)"
   ]
  },
  {
   "cell_type": "markdown",
   "id": "d262c61e-2dad-49d5-a8ca-21e82ccf2a1e",
   "metadata": {},
   "source": [
    "## Kernel Matrix Construction"
   ]
  },
  {
   "cell_type": "code",
   "execution_count": 4,
   "id": "267bdf28-ec1f-4ca7-b64b-fea4e0f78e4e",
   "metadata": {},
   "outputs": [
    {
     "name": "stdout",
     "output_type": "stream",
     "text": [
      "lambda = 0.023098520934581757\n"
     ]
    },
    {
     "data": {
      "image/png": "[encoded data removed]",
      "text/plain": [
       "<Figure size 640x480 with 1 Axes>"
      ]
     },
     "metadata": {},
     "output_type": "display_data"
    }
   ],
   "source": [
    "# Determining Lambda from random 1000 samples\n",
    "batch_size = 100\n",
    "num_colors = 256\n",
    "\n",
    "X,  _ = next(iter(DataLoader(train_data, batch_size=1000, shuffle=True)))\n",
    "X = X.reshape(X.shape[0],-1)\n",
    "\n",
    "D = torch.sum(torch.abs(X.unsqueeze(0)-X.unsqueeze(1)),dim=2)\n",
    "a = torch.median(D.flatten())\n",
    "lmd = bandwidth_parameter/a\n",
    "print(f\"lambda = {lmd}\")\n",
    "\n",
    "# Define the local kernel\n",
    "x = np.linspace(0, 1, num=num_colors).reshape(-1, 1)\n",
    "f = lambda X: 1 - lmd*X\n",
    "kernel = f(np.abs(x - x.T))\n",
    "\n",
    "# Visualize the global kernel\n",
    "d = train_data[0][0].squeeze().numel()\n",
    "S = lambda v: np.exp(-lmd*v)\n",
    "v = np.linspace(0, d)\n",
    "plt.plot(v, S(v))\n",
    "plt.title(f\"Kernel K for d={d} and num_colors = {num_colors}\")\n",
    "plt.show()"
   ]
  },
  {
   "cell_type": "markdown",
   "id": "eb9fccde-4541-44a4-936b-6d392fea6fb7",
   "metadata": {},
   "source": [
    "## Create Encoder"
   ]
  },
  {
   "cell_type": "code",
   "execution_count": 5,
   "id": "10775dbf-bee6-4bea-8345-c590ea6d7a85",
   "metadata": {},
   "outputs": [
    {
     "name": "stdout",
     "output_type": "stream",
     "text": [
      "mode: shift_1d\n",
      "Hyperdimension: 10000\n"
     ]
    }
   ],
   "source": [
    "encoder = hdc_encoder(d, hyperdim, kernel, encoder_mode)\n",
    "print(f\"mode: {encoder_mode}\\nHyperdimension: {encoder.hyperdim}\")"
   ]
  },
  {
   "cell_type": "markdown",
   "id": "12b4e4b3-bfed-47fe-a4b5-80694c8afe71",
   "metadata": {},
   "source": [
    "## Ecode Data"
   ]
  },
  {
   "cell_type": "code",
   "execution_count": 6,
   "id": "e6fa9aef-4447-4eec-a2d8-0fbe62fdb26d",
   "metadata": {},
   "outputs": [
    {
     "name": "stdout",
     "output_type": "stream",
     "text": [
      "train encoding time: 31.48933219909668\n",
      "test encoding time: 5.089881896972656\n"
     ]
    }
   ],
   "source": [
    "batch_size = 512\n",
    "train_loader = DataLoader(\n",
    "    train_data,\n",
    "    batch_size=batch_size,\n",
    "    shuffle=False\n",
    ")\n",
    "\n",
    "test_loader = DataLoader(\n",
    "    test_data,\n",
    "    batch_size=batch_size,\n",
    "    shuffle=False\n",
    ")\n",
    "\n",
    "# Encode the data\n",
    "\n",
    "t0 = time.time()\n",
    "train_hdc = encoder.encode(train_loader)\n",
    "t1 = time.time()\n",
    "\n",
    "print(f\"train encoding time: {t1 -t0}\")\n",
    "\n",
    "t0 = time.time()\n",
    "test_hdc = encoder.encode(test_loader)\n",
    "t1 = time.time()\n",
    "\n",
    "print(f\"test encoding time: {t1 -t0}\")"
   ]
  },
  {
   "cell_type": "markdown",
   "id": "f54a34bc-9319-45f7-91ed-ffcce732bd59",
   "metadata": {},
   "source": [
    "## Classification"
   ]
  },
  {
   "cell_type": "code",
   "execution_count": 7,
   "id": "bd9a22a4-47de-4cec-ba80-84e12fad71a7",
   "metadata": {},
   "outputs": [
    {
     "name": "stderr",
     "output_type": "stream",
     "text": [
      "100%|████████████████████████████████████████████████████████████| 3/3 [00:01<00:00,  2.36it/s]"
     ]
    },
    {
     "name": "stdout",
     "output_type": "stream",
     "text": [
      "mode: binary_sgd \n",
      "test accuracy: 0.946\n"
     ]
    },
    {
     "name": "stderr",
     "output_type": "stream",
     "text": [
      "\n"
     ]
    }
   ],
   "source": [
    "batch_size = 256\n",
    "train_loader_hdc = DataLoader(\n",
    "    train_hdc,\n",
    "    batch_size=batch_size,\n",
    "    shuffle=True,\n",
    ")\n",
    "\n",
    "test_loader_hdc = DataLoader(\n",
    "    test_hdc,\n",
    "    batch_size=batch_size,\n",
    "    shuffle=True,\n",
    ")\n",
    "\n",
    "model = train_hdc_classifier(train_loader_hdc, num_classes, mode=classifier_mode, epochs=epochs)\n",
    "accuracy = test_hdc_classifier(model, test_loader_hdc)\n",
    "print(f\"mode: {classifier_mode} \\ntest accuracy: {accuracy}\")"
   ]
  }
 ],
 "metadata": {
  "kernelspec": {
   "display_name": "Python 3 (ipykernel)",
   "language": "python",
   "name": "python3"
  },
  "language_info": {
   "codemirror_mode": {
    "name": "ipython",
    "version": 3
   },
   "file_extension": ".py",
   "mimetype": "text/x-python",
   "name": "python",
   "nbconvert_exporter": "python",
   "pygments_lexer": "ipython3",
   "version": "3.10.12"
  }
 },
 "nbformat": 4,
 "nbformat_minor": 5
}
